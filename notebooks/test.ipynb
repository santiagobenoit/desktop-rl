{
 "cells": [
  {
   "cell_type": "code",
   "execution_count": 1,
   "metadata": {},
   "outputs": [
    {
     "name": "stderr",
     "output_type": "stream",
     "text": [
      "Using TensorFlow backend.\n"
     ]
    }
   ],
   "source": [
    "%matplotlib inline\n",
    "import pyautogui\n",
    "import skimage.io\n",
    "import numpy\n",
    "import keras\n",
    "import rl\n",
    "import gym"
   ]
  },
  {
   "cell_type": "code",
   "execution_count": 2,
   "metadata": {},
   "outputs": [],
   "source": [
    "dims = (960, 540)"
   ]
  },
  {
   "cell_type": "code",
   "execution_count": 3,
   "metadata": {},
   "outputs": [],
   "source": [
    "#img = pyautogui.screenshot().resize(dims).convert('L')"
   ]
  },
  {
   "cell_type": "code",
   "execution_count": 4,
   "metadata": {},
   "outputs": [],
   "source": [
    "#arr = numpy.array(img)"
   ]
  },
  {
   "cell_type": "code",
   "execution_count": 5,
   "metadata": {},
   "outputs": [],
   "source": [
    "#skimage.io.imshow(arr)"
   ]
  },
  {
   "cell_type": "code",
   "execution_count": 6,
   "metadata": {},
   "outputs": [],
   "source": [
    "#arr.shape"
   ]
  },
  {
   "cell_type": "code",
   "execution_count": 7,
   "metadata": {},
   "outputs": [],
   "source": [
    "#img"
   ]
  },
  {
   "cell_type": "code",
   "execution_count": 8,
   "metadata": {},
   "outputs": [],
   "source": [
    "actions = 1 + 2 * len(pyautogui.KEYBOARD_KEYS) + 2 * 3 + 4"
   ]
  },
  {
   "cell_type": "code",
   "execution_count": 9,
   "metadata": {},
   "outputs": [
    {
     "data": {
      "text/plain": [
       "399"
      ]
     },
     "execution_count": 9,
     "metadata": {},
     "output_type": "execute_result"
    }
   ],
   "source": [
    "actions"
   ]
  },
  {
   "cell_type": "code",
   "execution_count": 10,
   "metadata": {},
   "outputs": [],
   "source": [
    "from keras.models import *\n",
    "from keras.layers import *"
   ]
  },
  {
   "cell_type": "code",
   "execution_count": 11,
   "metadata": {},
   "outputs": [
    {
     "name": "stdout",
     "output_type": "stream",
     "text": [
      "_________________________________________________________________\n",
      "Layer (type)                 Output Shape              Param #   \n",
      "=================================================================\n",
      "input_1 (InputLayer)         (None, 540, 960, 1)       0         \n",
      "_________________________________________________________________\n",
      "conv2d_1 (Conv2D)            (None, 538, 958, 16)      160       \n",
      "_________________________________________________________________\n",
      "max_pooling2d_1 (MaxPooling2 (None, 269, 479, 16)      0         \n",
      "_________________________________________________________________\n",
      "conv2d_2 (Conv2D)            (None, 267, 477, 32)      4640      \n",
      "_________________________________________________________________\n",
      "max_pooling2d_2 (MaxPooling2 (None, 133, 238, 32)      0         \n",
      "_________________________________________________________________\n",
      "conv2d_3 (Conv2D)            (None, 131, 236, 64)      18496     \n",
      "_________________________________________________________________\n",
      "max_pooling2d_3 (MaxPooling2 (None, 65, 118, 64)       0         \n",
      "_________________________________________________________________\n",
      "conv2d_4 (Conv2D)            (None, 63, 116, 128)      73856     \n",
      "_________________________________________________________________\n",
      "max_pooling2d_4 (MaxPooling2 (None, 31, 58, 128)       0         \n",
      "_________________________________________________________________\n",
      "conv2d_5 (Conv2D)            (None, 29, 56, 256)       295168    \n",
      "_________________________________________________________________\n",
      "max_pooling2d_5 (MaxPooling2 (None, 14, 28, 256)       0         \n",
      "_________________________________________________________________\n",
      "flatten_1 (Flatten)          (None, 100352)            0         \n",
      "_________________________________________________________________\n",
      "dense_1 (Dense)              (None, 399)               40040847  \n",
      "=================================================================\n",
      "Total params: 40,433,167\n",
      "Trainable params: 40,433,167\n",
      "Non-trainable params: 0\n",
      "_________________________________________________________________\n"
     ]
    }
   ],
   "source": [
    "input_layer = Input(shape=(540, 960, 1))\n",
    "x = Conv2D(16, (3, 3))(input_layer)\n",
    "x = MaxPool2D((2, 2))(x)\n",
    "x = Conv2D(32, (3, 3))(x)\n",
    "x = MaxPool2D((2, 2))(x)\n",
    "x = Conv2D(64, (3, 3))(x)\n",
    "x = MaxPool2D((2, 2))(x)\n",
    "x = Conv2D(128, (3, 3))(x)\n",
    "x = MaxPool2D((2, 2))(x)\n",
    "x = Conv2D(256, (3, 3))(x)\n",
    "x = MaxPool2D((2, 2))(x)\n",
    "x = Flatten()(x)\n",
    "output_layer = Dense(actions, activation='softmax')(x)\n",
    "model = Model(input_layer, output_layer)\n",
    "model.compile(optimizer='adam', loss='categorical_crossentropy', metrics=['accuracy'])\n",
    "model.summary()"
   ]
  },
  {
   "cell_type": "code",
   "execution_count": 12,
   "metadata": {},
   "outputs": [],
   "source": [
    "# input_layer = Input(shape=(None, 540, 960, 1))\n",
    "# x = ConvLSTM2D(64, (3, 3), return_sequences=True)(input_layer)\n",
    "# x = ConvLSTM2D(64, (3, 3))(x)\n",
    "# x = Flatten()(x)\n",
    "# output_layer = Dense(actions, activation='softmax')(x)\n",
    "# model = Model(input_layer, output_layer)\n",
    "# model.compile(optimizer='adam', loss='categorical_crossentropy', metrics=['accuracy'])\n",
    "# model.summary()"
   ]
  },
  {
   "cell_type": "code",
   "execution_count": 14,
   "metadata": {},
   "outputs": [
    {
     "name": "stdout",
     "output_type": "stream",
     "text": [
      "315\n",
      "315\n",
      "315\n",
      "315\n",
      "315\n",
      "315\n",
      "315\n",
      "315\n",
      "315\n",
      "315\n",
      "315\n",
      "315\n",
      "315\n",
      "315\n",
      "315\n",
      "315\n",
      "315\n",
      "315\n",
      "315\n",
      "315\n",
      "315\n",
      "315\n",
      "315\n",
      "315\n",
      "315\n",
      "315\n",
      "315\n",
      "315\n",
      "315\n",
      "315\n",
      "315\n",
      "315\n",
      "315\n",
      "315\n",
      "315\n",
      "315\n",
      "315\n",
      "315\n",
      "315\n",
      "315\n",
      "315\n",
      "315\n",
      "315\n",
      "315\n",
      "315\n",
      "315\n",
      "315\n",
      "315\n",
      "315\n",
      "315\n",
      "315\n",
      "315\n",
      "315\n",
      "315\n",
      "315\n",
      "315\n",
      "315\n",
      "315\n",
      "315\n",
      "315\n",
      "315\n",
      "315\n",
      "315\n",
      "315\n",
      "315\n",
      "315\n",
      "315\n",
      "315\n",
      "315\n",
      "315\n",
      "315\n",
      "315\n",
      "315\n",
      "315\n",
      "315\n",
      "315\n",
      "315\n",
      "315\n",
      "315\n",
      "315\n",
      "315\n",
      "315\n",
      "315\n",
      "315\n",
      "315\n",
      "315\n",
      "315\n",
      "315\n",
      "315\n",
      "315\n",
      "315\n",
      "315\n",
      "315\n",
      "315\n",
      "315\n",
      "315\n",
      "315\n",
      "315\n",
      "315\n",
      "315\n"
     ]
    }
   ],
   "source": [
    "for i in range(100):\n",
    "    X = numpy.array(pyautogui.screenshot().resize(dims).convert('L')).reshape((1, 540, 960, 1)).astype(numpy.float64)\n",
    "    pred = model.predict(X, batch_size=1)\n",
    "    print(numpy.argmax(pred))"
   ]
  },
  {
   "cell_type": "code",
   "execution_count": null,
   "metadata": {},
   "outputs": [],
   "source": []
  }
 ],
 "metadata": {
  "kernelspec": {
   "display_name": "Python 3",
   "language": "python",
   "name": "python3"
  },
  "language_info": {
   "codemirror_mode": {
    "name": "ipython",
    "version": 3
   },
   "file_extension": ".py",
   "mimetype": "text/x-python",
   "name": "python",
   "nbconvert_exporter": "python",
   "pygments_lexer": "ipython3",
   "version": "3.6.3"
  }
 },
 "nbformat": 4,
 "nbformat_minor": 2
}
